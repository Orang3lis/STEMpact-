{
  "cells": [
    {
      "cell_type": "markdown",
      "metadata": {
        "id": "PXuB7tbHBMUN"
      },
      "source": [
        "# 🧠 Análisis de datos con Python: Confianza en STEM y Arte\n",
        "\n",
        "Este cuaderno te ayudará a explorar cómo el género, el estatus económico y las discapacidades pueden influir en la confianza que sienten las personas en materias STEM y arte."
      ]
    },
    {
      "cell_type": "markdown",
      "metadata": {
        "id": "PUwqEKZRYtM2"
      },
      "source": [
        "🟢 Paso 1: Cargar datos (Código)\n",
        "\n"
      ]
    },
    {
      "cell_type": "code",
      "execution_count": null,
      "metadata": {
        "colab": {
          "background_save": true
        },
        "id": "CUC5WJttBGGi"
      },
      "outputs": [],
      "source": [
        "import pandas as pd\n",
        "\n",
        "# Subir el archivo CSV\n",
        "from google.colab import files\n",
        "uploaded = files.upload()\n",
        "\n",
        "# Cargar el archivo\n",
        "df = pd.read_csv(next(iter(uploaded)))\n",
        "df.head()\n"
      ]
    },
    {
      "cell_type": "markdown",
      "metadata": {
        "id": "BiTxOpDMY4Wi"
      },
      "source": [
        "\n",
        "🔍 Paso 2: Seleccionar columnas importantes (Código)\n"
      ]
    },
    {
      "cell_type": "code",
      "execution_count": null,
      "metadata": {
        "collapsed": true,
        "id": "FeRvnil0JR7O"
      },
      "outputs": [],
      "source": [
        "columns_to_keep = [\n",
        "    \"What is your gender? / ¿Cual es tu género?\",\n",
        "    \"Do you have any disabilities that may affect your learning? /  ¿ Padeces de algun tipo de discapacidad que pueda afectar tu aprendizaje?\",\n",
        "    \"What is your household’s approximate annual income level? (Choose the best estimate.) / ¿Cuál es el nivel aproximado de ingresos anuales de su hogar? (Seleccione la mejor estimación).\",\n",
        "    \"From 1-5, what would you rate your confidence level in math? / Del 1 al 5, ¿cómo calificarías tu nivel de confianza en matemáticas?\",\n",
        "    \"From 1-5, what would you rate your confidence level in science? / Del 1 al 5, ¿cómo calificarías tu nivel de confianza en ciencias?\",\n",
        "    \"From 1-5, what would you rate your confidence level in music and art subjects? / Del 1 al 5, ¿cómo calificarías tu nivel de confianza en cursos de musica y arte?\",\n",
        "    \"What type of schools have you attended? /¿A qué tipo de escuela has ido?\"\n",
        "]\n",
        "\n",
        "df = df[columns_to_keep]\n",
        "df.columns = ['Gender', 'Disability', 'Income', 'Confidence_Math', 'Confidence_Science', 'Confidence_Music_Art', 'School_Type' ]\n",
        "\n",
        "df.head()"
      ]
    },
    {
      "cell_type": "markdown",
      "metadata": {
        "id": "6xTWtB_ZY98-"
      },
      "source": [
        "\n",
        "📊 Paso 3: Crear gráficas (Código)\n",
        "\n"
      ]
    },
    {
      "cell_type": "code",
      "execution_count": null,
      "metadata": {
        "id": "B9r-mbAuJlj1"
      },
      "outputs": [],
      "source": [
        "import seaborn as sns\n",
        "import matplotlib.pyplot as plt\n",
        "\n",
        "# Asegurar orden lógico de las categorías (puedes ajustarlo según tus datos reales)\n",
        "orden_confianza = ['1- Very Unconfident / Muy inseguro/insegura', '2- Somewhat Unconfident/ Algo inseguro/insegura', '3- Neutral', '4- Somewhat confident / Algo seguro/segura', '5- Very Confident / Muy seguro/segura']\n",
        "\n",
        "# Gráfico: Confianza en matemáticas por género\n",
        "plt.figure(figsize=(8, 5))\n",
        "sns.countplot(data=df, x='Confidence_Math', hue='Gender')\n",
        "plt.title('Confianza en Matemáticas por Género')\n",
        "plt.xticks(rotation=30, ha='right')\n",
        "plt.show()\n"
      ]
    },
    {
      "cell_type": "markdown",
      "metadata": {
        "id": "Ntfvhh1IZFPh"
      },
      "source": [
        "🎯 Retos"
      ]
    },
    {
      "cell_type": "code",
      "execution_count": null,
      "metadata": {
        "id": "nnlu8rBFJ3wx"
      },
      "outputs": [],
      "source": [
        "## 🎯 Retos para explorar por tu cuenta\n",
        "\n",
        "1. **Crea una gráfica que muestre la confianza en ciencias según el género.**\n",
        "2. **Crea una gráfica que muestre la confianza en música según el nivel de ingreso.**\n",
        "3. **Crea una gráfica de barras apiladas que compare la confianza en matemáticas por nivel de ingreso.**\n",
        "4. **¿Hay alguna diferencia visible en la confianza en ciencia entre quienes tienen alguna discapacidad y quienes no? Haz una gráfica.**\n",
        "5. **Explora con una gráfica propia: elige dos variables y crea tu propia visualización.**"
      ]
    },
    {
      "cell_type": "markdown",
      "metadata": {
        "id": "64M4OA4sZTV4"
      },
      "source": [
        "📌 1. Gráfica de barras: Confianza en ciencia por género\n"
      ]
    },
    {
      "cell_type": "code",
      "execution_count": null,
      "metadata": {
        "id": "5SNMCFZXK0JU"
      },
      "outputs": [],
      "source": [
        "plt.figure(figsize=(8, 5))\n",
        "\n",
        "# Asegurar orden lógico de las categorías (puedes ajustarlo según tus datos reales)\n",
        "orden_confianza = ['1- Very Unconfident / Muy inseguro/insegura', '2- Somewhat Unconfident/ Algo inseguro/insegura', '3- Neutral', '4- Somewhat confident / Algo seguro/segura', '5- Very Confident / Muy seguro/segura']\n",
        "\n",
        "sns.countplot(data=df, x='Confidence_Science', hue='_______', order=orden_confianza)  # Rellena el nombre de la columna de género\n",
        "# TODO: Añade título y etiquetas\n",
        "plt.title('Confianza en Ciencia por Género')\n",
        "plt.xlabel('Nivel de Confianza')\n",
        "plt.ylabel('________')\n",
        "plt.xticks(rotation=30, ha='right')\n",
        "plt.show()\n"
      ]
    },
    {
      "cell_type": "markdown",
      "metadata": {
        "id": "Y-tui95LZfeJ"
      },
      "source": [
        "📌 2. Gráfica de barras: Confianza en música por nivel de ingreso"
      ]
    },
    {
      "cell_type": "code",
      "execution_count": null,
      "metadata": {
        "id": "oauiSSyLW6Ut"
      },
      "outputs": [],
      "source": [
        "plt.figure(figsize=(10, 5))\n",
        "# Convierte la columna 'Confidence_Music' en numérica como se hizo antes\n",
        "df['Confidence_Music_Art_Numerical'] = df['Confidence_Music_Art'].str.split('-').str[0].astype(int)\n",
        "# Define el orden deseado para las categorías de Ingresos en el eje x\n",
        "income_order = [\n",
        "    'Prefer not to say / Prefiero no decirlo',\n",
        "    'Below $25,000 / Menos de $25,000',\n",
        "    '$25,000-$50,000',\n",
        "    '$50,000-$75,000',\n",
        "    '$75,000-$100,000',\n",
        "    'Above $100,000 / Más de $100,000'\n",
        "]\n",
        "# Utilice el parámetro 'orden' con la variable 'x' para definir el orden de las categorías de ingresos.\n",
        "sns.______-(data=df, x='Income', y='_________', order=income_order) # Completa con boxplot y la columna de música (Confidence_Music_Art_Numerical)\n",
        "# TODO: Agregar título y rotar etiquetas\n",
        "plt.title('_______________')\n",
        "plt.xticks(rotation=30, ha='right')\n",
        "plt.ylabel('Nivel de Confianza (1-5)') # Update y-axis label\n",
        "plt.show()\n"
      ]
    },
    {
      "cell_type": "markdown",
      "metadata": {
        "id": "7W95Z3mhZ_Ih"
      },
      "source": [
        "\n",
        "📌 3. Gráfico de barras apiladas (con crosstab y plot)\n",
        "\n",
        "\n",
        "\n",
        "\n",
        "\n",
        "\n",
        "\n",
        "\n",
        "\n"
      ]
    },
    {
      "cell_type": "code",
      "execution_count": null,
      "metadata": {
        "id": "xj03MJI8YIaH"
      },
      "outputs": [],
      "source": [
        "# TODO: Crear una tabla cruzada con crosstab\n",
        "df['Income'] = pd.Categorical(df['Income'], categories=income_order, ordered=True)\n",
        "ct = pd.crosstab(df['Income'], df['__________'])  # Completa con columna de confianza\n",
        "income_order = [\n",
        "    'Prefer not to say / Prefiero no decirlo',\n",
        "    'Below $25,000 / Menos de $25,000',\n",
        "    '$25,000-$50,000',\n",
        "    '$50,000-$75,000',\n",
        "    '$75,000-$100,000',\n",
        "    'Above $100,000 / Más de $100,000']\n",
        "# TODO: Usar .plot para crear gráfico apilado\n",
        "ct.plot(kind='bar', stacked=True, figsize=(10, 6), colormap='viridis')\n",
        "plt.title('__________________') #Ponle un titulo a la grafica\n",
        "plt.xlabel('________') #Ponle nombre al eje de x\n",
        "plt.ylabel('Cantidad de respuestas')\n",
        "plt.xticks(rotation=30, ha='right')\n",
        "plt.show()\n"
      ]
    },
    {
      "cell_type": "markdown",
      "metadata": {
        "id": "bdYuOClnZXU1"
      },
      "source": [
        "📌 4. Gráfico de dispersión: Relación entre confianza en matemáticas y ciencia"
      ]
    },
    {
      "cell_type": "code",
      "execution_count": null,
      "metadata": {
        "id": "BCbHMDJHXMle"
      },
      "outputs": [],
      "source": [
        "# TODO: Crear un gráfico de dispersión usando scatterplot\n",
        "plt.figure(figsize=(6, 6))\n",
        "sns.scatterplot(data=df, x='_____________', y='_________', hue='Gender') #Llena los ejes con (Confidence_Math y Confidence_Science)\n",
        "plt.title('Relación entre confianza en Matemáticas y Ciencia')\n",
        "#Ponle un nombre a cada eje\n",
        "plt.xlabel('__________')\n",
        "plt.ylabel('___________')\n",
        "etiquetas_confianza = {\n",
        "    1: '1- Very Unconfident / Muy inseguro/insegura',\n",
        "    2: '2- Somewhat Unconfident/ Algo inseguro/insegura',\n",
        "    3: '3- Neutral',\n",
        "    4: '4- Somewhat confident / Algo seguro/segura',\n",
        "    5: '5- Very Confident / Muy seguro/segura'\n",
        "}\n",
        "# Obtener las etiquetas en el orden correcto para los ticks\n",
        "tick_labels = [etiquetas_confianza[i] for i in sorted(etiquetas_confianza.keys())]\n",
        "# Usar los números como ticks y las etiquetas de texto como labels\n",
        "plt.xticks(ticks=[1, 2, 3, 4, 5], labels=tick_labels, rotation=90, ha='center') # Rota las etiquetas para que no se solapen\n",
        "plt.yticks(ticks=[1, 2, 3, 4, 5], labels=tick_labels) # Las etiquetas del eje Y probablemente caben sin rotación\n",
        "plt.ylim(0.5, 5.1)\n",
        "plt.xlim(0.5,5.1) # Añadido para simetría y asegurar que el tick '1' en X se ve\n",
        "plt.show()"
      ]
    },
    {
      "cell_type": "markdown",
      "source": [
        "# Otros ejemplos:"
      ],
      "metadata": {
        "id": "c99IUVYBNG2E"
      }
    },
    {
      "cell_type": "markdown",
      "metadata": {
        "id": "BPqG1qADZmMT"
      },
      "source": [
        "📌 Gráfico de violín: Distribución de confianza por discapacidad"
      ]
    },
    {
      "cell_type": "code",
      "execution_count": null,
      "metadata": {
        "id": "xQE2gGdBXbqb"
      },
      "outputs": [],
      "source": [
        "\n",
        "# TODO: Crear un violinplot para ver distribución\n",
        "plt.figure(figsize=(8, 5))\n",
        "sns.violinplot(data=df, x='_______', y='Confidence_Science') #Llena eje de x con \"Disability\"\n",
        "plt.title('___________') #Ponle titulo a la grafica\n",
        "etiquetas_confianza = {\n",
        "    1: '1- Very Unconfident / Muy inseguro/insegura',\n",
        "    2: '2- Somewhat Unconfident/ Algo inseguro/insegura',\n",
        "    3: '3- Neutral',\n",
        "    4: '4- Somewhat confident / Algo seguro/segura',\n",
        "    5: '5- Very Confident / Muy seguro/segura'\n",
        "}\n",
        "plt.xticks(rotation=30, ha='right')\n",
        "plt.yticks(ticks=[1, 2, 3, 4, 5], labels=tick_labels) # Las etiquetas del eje Y probablemente caben sin rotación\n",
        "plt.ylim(0.5, 5.5)\n",
        "plt.show()"
      ]
    },
    {
      "cell_type": "markdown",
      "metadata": {
        "id": "47LB_3lKZxSn"
      },
      "source": [
        "📌 Gráfico de calor (heatmap): Correlación entre variables de confianza\n",
        "\n",
        "\n",
        "\n",
        "\n",
        "\n",
        "\n",
        "\n"
      ]
    },
    {
      "cell_type": "code",
      "execution_count": null,
      "metadata": {
        "id": "e-KqZQ85X8vL"
      },
      "outputs": [],
      "source": [
        "# TODO: Selecciona solo las columnas numéricas\n",
        "confidence_data = df[['_______', '________', '________']] #Pon las columnas de Confidence\n",
        "correlation = confidence_data.corr()\n",
        "\n",
        "# Generar el mapa de calor\n",
        "plt.figure(figsize=(6, 5))\n",
        "sns.heatmap(correlation, annot=True, cmap='coolwarm')\n",
        "plt.title('_____________') #Ponle un nombre a tu grafica\n",
        "plt.show()"
      ]
    }
  ],
  "metadata": {
    "colab": {
      "provenance": []
    },
    "kernelspec": {
      "display_name": "Python 3",
      "name": "python3"
    },
    "language_info": {
      "name": "python"
    }
  },
  "nbformat": 4,
  "nbformat_minor": 0
}